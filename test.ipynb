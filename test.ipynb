{
 "cells": [
  {
   "cell_type": "code",
   "execution_count": 5,
   "metadata": {},
   "outputs": [],
   "source": [
    "import torch\n",
    "from PIL import Image\n",
    "from gsplat.rendering import rasterization\n",
    "import math\n",
    "\n",
    "device = 'cuda'"
   ]
  },
  {
   "cell_type": "code",
   "execution_count": 8,
   "metadata": {},
   "outputs": [],
   "source": [
    "width = 256\n",
    "height = 256\n",
    "means = torch.rand((100, 3))\n",
    "quats = torch.rand((100, 4))\n",
    "quats = quats / torch.linalg.norm(quats, dim=1, keepdim=True)\n",
    "scales = torch.rand((100, 3))\n",
    "colors = torch.rand((100, 3))\n",
    "opacities = torch.rand((100,))\n",
    "camtoworlds = torch.tensor(\n",
    "            [\n",
    "                [1.0, 0.0, 0.0, 0.0],\n",
    "                [0.0, 1.0, 0.0, 0.0],\n",
    "                [0.0, 0.0, 1.0, 8.0],\n",
    "                [0.0, 0.0, 0.0, 1.0],\n",
    "            ],\n",
    "            device=device,\n",
    "        )\n",
    "fov_x = math.pi / 2.0\n",
    "focal = 0.5 * float(width) / math.tan(0.5 * fov_x)\n",
    "Ks = torch.tensor(\n",
    "            [\n",
    "                [focal, 0, width / 2],\n",
    "                [0, focal, height / 2],\n",
    "                [0, 0, 1],\n",
    "            ],\n",
    "            device=device,\n",
    "        )[None]"
   ]
  },
  {
   "cell_type": "code",
   "execution_count": 9,
   "metadata": {},
   "outputs": [
    {
     "ename": "AssertionError",
     "evalue": "torch.Size([4, 4])",
     "output_type": "error",
     "traceback": [
      "\u001b[0;31m---------------------------------------------------------------------------\u001b[0m",
      "\u001b[0;31mAssertionError\u001b[0m                            Traceback (most recent call last)",
      "Cell \u001b[0;32mIn[9], line 1\u001b[0m\n\u001b[0;32m----> 1\u001b[0m render_colors, render_alphas, info \u001b[38;5;241m=\u001b[39m \u001b[43mrasterization\u001b[49m\u001b[43m(\u001b[49m\n\u001b[1;32m      2\u001b[0m \u001b[43m            \u001b[49m\u001b[43mmeans\u001b[49m\u001b[38;5;241;43m=\u001b[39;49m\u001b[43mmeans\u001b[49m\u001b[43m,\u001b[49m\n\u001b[1;32m      3\u001b[0m \u001b[43m            \u001b[49m\u001b[43mquats\u001b[49m\u001b[38;5;241;43m=\u001b[39;49m\u001b[43mquats\u001b[49m\u001b[43m,\u001b[49m\n\u001b[1;32m      4\u001b[0m \u001b[43m            \u001b[49m\u001b[43mscales\u001b[49m\u001b[38;5;241;43m=\u001b[39;49m\u001b[43mscales\u001b[49m\u001b[43m,\u001b[49m\n\u001b[1;32m      5\u001b[0m \u001b[43m            \u001b[49m\u001b[43mopacities\u001b[49m\u001b[38;5;241;43m=\u001b[39;49m\u001b[43mopacities\u001b[49m\u001b[43m,\u001b[49m\n\u001b[1;32m      6\u001b[0m \u001b[43m            \u001b[49m\u001b[43mcolors\u001b[49m\u001b[38;5;241;43m=\u001b[39;49m\u001b[43mcolors\u001b[49m\u001b[43m,\u001b[49m\n\u001b[1;32m      7\u001b[0m \u001b[43m            \u001b[49m\u001b[43mviewmats\u001b[49m\u001b[38;5;241;43m=\u001b[39;49m\u001b[43mtorch\u001b[49m\u001b[38;5;241;43m.\u001b[39;49m\u001b[43mlinalg\u001b[49m\u001b[38;5;241;43m.\u001b[39;49m\u001b[43minv\u001b[49m\u001b[43m(\u001b[49m\u001b[43mcamtoworlds\u001b[49m\u001b[43m)\u001b[49m\u001b[43m,\u001b[49m\u001b[43m  \u001b[49m\u001b[38;5;66;43;03m# [C, 4, 4]\u001b[39;49;00m\n\u001b[1;32m      8\u001b[0m \u001b[43m            \u001b[49m\u001b[43mKs\u001b[49m\u001b[38;5;241;43m=\u001b[39;49m\u001b[43mKs\u001b[49m\u001b[43m,\u001b[49m\u001b[43m  \u001b[49m\u001b[38;5;66;43;03m# [C, 3, 3]\u001b[39;49;00m\n\u001b[1;32m      9\u001b[0m \u001b[43m            \u001b[49m\u001b[43mwidth\u001b[49m\u001b[38;5;241;43m=\u001b[39;49m\u001b[43mwidth\u001b[49m\u001b[43m,\u001b[49m\n\u001b[1;32m     10\u001b[0m \u001b[43m            \u001b[49m\u001b[43mheight\u001b[49m\u001b[38;5;241;43m=\u001b[39;49m\u001b[43mheight\u001b[49m\u001b[43m,\u001b[49m\n\u001b[1;32m     11\u001b[0m \u001b[43m            \u001b[49m\u001b[43mpacked\u001b[49m\u001b[38;5;241;43m=\u001b[39;49m\u001b[38;5;28;43;01mFalse\u001b[39;49;00m\u001b[43m,\u001b[49m\n\u001b[1;32m     12\u001b[0m \u001b[43m            \u001b[49m\u001b[43mabsgrad\u001b[49m\u001b[38;5;241;43m=\u001b[39;49m\u001b[38;5;28;43;01mTrue\u001b[39;49;00m\u001b[43m,\u001b[49m\n\u001b[1;32m     13\u001b[0m \u001b[43m            \u001b[49m\u001b[43msparse_grad\u001b[49m\u001b[38;5;241;43m=\u001b[39;49m\u001b[38;5;28;43;01mFalse\u001b[39;49;00m\u001b[43m,\u001b[49m\n\u001b[1;32m     14\u001b[0m \u001b[43m            \u001b[49m\u001b[43mrasterize_mode\u001b[49m\u001b[38;5;241;43m=\u001b[39;49m\u001b[38;5;124;43m\"\u001b[39;49m\u001b[38;5;124;43mantialiased\u001b[39;49m\u001b[38;5;124;43m\"\u001b[39;49m\u001b[43m,\u001b[49m\n\u001b[1;32m     15\u001b[0m \u001b[43m        \u001b[49m\u001b[43m)\u001b[49m\n",
      "File \u001b[0;32m~/.cache/pypoetry/virtualenvs/gsplats-expr-rq7iXuSR-py3.10/lib/python3.10/site-packages/gsplat/rendering.py:194\u001b[0m, in \u001b[0;36mrasterization\u001b[0;34m(means, quats, scales, opacities, colors, viewmats, Ks, width, height, near_plane, far_plane, radius_clip, eps2d, sh_degree, packed, tile_size, backgrounds, render_mode, sparse_grad, absgrad, rasterize_mode)\u001b[0m\n\u001b[1;32m    192\u001b[0m \u001b[38;5;28;01massert\u001b[39;00m scales\u001b[38;5;241m.\u001b[39mshape \u001b[38;5;241m==\u001b[39m (N, \u001b[38;5;241m3\u001b[39m), scales\u001b[38;5;241m.\u001b[39mshape\n\u001b[1;32m    193\u001b[0m \u001b[38;5;28;01massert\u001b[39;00m opacities\u001b[38;5;241m.\u001b[39mshape \u001b[38;5;241m==\u001b[39m (N,), opacities\u001b[38;5;241m.\u001b[39mshape\n\u001b[0;32m--> 194\u001b[0m \u001b[38;5;28;01massert\u001b[39;00m viewmats\u001b[38;5;241m.\u001b[39mshape \u001b[38;5;241m==\u001b[39m (C, \u001b[38;5;241m4\u001b[39m, \u001b[38;5;241m4\u001b[39m), viewmats\u001b[38;5;241m.\u001b[39mshape\n\u001b[1;32m    195\u001b[0m \u001b[38;5;28;01massert\u001b[39;00m Ks\u001b[38;5;241m.\u001b[39mshape \u001b[38;5;241m==\u001b[39m (C, \u001b[38;5;241m3\u001b[39m, \u001b[38;5;241m3\u001b[39m), Ks\u001b[38;5;241m.\u001b[39mshape\n\u001b[1;32m    196\u001b[0m \u001b[38;5;28;01massert\u001b[39;00m render_mode \u001b[38;5;129;01min\u001b[39;00m [\u001b[38;5;124m\"\u001b[39m\u001b[38;5;124mRGB\u001b[39m\u001b[38;5;124m\"\u001b[39m, \u001b[38;5;124m\"\u001b[39m\u001b[38;5;124mD\u001b[39m\u001b[38;5;124m\"\u001b[39m, \u001b[38;5;124m\"\u001b[39m\u001b[38;5;124mED\u001b[39m\u001b[38;5;124m\"\u001b[39m, \u001b[38;5;124m\"\u001b[39m\u001b[38;5;124mRGB+D\u001b[39m\u001b[38;5;124m\"\u001b[39m, \u001b[38;5;124m\"\u001b[39m\u001b[38;5;124mRGB+ED\u001b[39m\u001b[38;5;124m\"\u001b[39m], render_mode\n",
      "\u001b[0;31mAssertionError\u001b[0m: torch.Size([4, 4])"
     ]
    }
   ],
   "source": [
    "render_colors, render_alphas, info = rasterization(\n",
    "            means=means,\n",
    "            quats=quats,\n",
    "            scales=scales,\n",
    "            opacities=opacities,\n",
    "            colors=colors,\n",
    "            viewmats=torch.linalg.inv(camtoworlds)[None],  # [C, 4, 4]\n",
    "            Ks=Ks,  # [C, 3, 3]\n",
    "            width=width,\n",
    "            height=height,\n",
    "            packed=False,\n",
    "            absgrad=True,\n",
    "            sparse_grad=False,\n",
    "            rasterize_mode=\"antialiased\",\n",
    "        )"
   ]
  }
 ],
 "metadata": {
  "kernelspec": {
   "display_name": "gsplats-expr-rq7iXuSR-py3.10",
   "language": "python",
   "name": "python3"
  },
  "language_info": {
   "codemirror_mode": {
    "name": "ipython",
    "version": 3
   },
   "file_extension": ".py",
   "mimetype": "text/x-python",
   "name": "python",
   "nbconvert_exporter": "python",
   "pygments_lexer": "ipython3",
   "version": "3.10.12"
  }
 },
 "nbformat": 4,
 "nbformat_minor": 2
}
