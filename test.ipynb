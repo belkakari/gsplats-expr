{
 "cells": [
  {
   "cell_type": "code",
   "execution_count": 1,
   "metadata": {},
   "outputs": [],
   "source": [
    "import torch\n",
    "from PIL import Image\n",
    "from gsplat.rendering import rasterization"
   ]
  },
  {
   "cell_type": "code",
   "execution_count": 10,
   "metadata": {},
   "outputs": [],
   "source": [
    "means = torch.rand((100, 3))\n",
    "quats = torch.rand((100, 4))\n",
    "quats = quats / torch.linalg.norm(quats, dim=1, keepdim=True)\n",
    "scales = torch.rand((100, 3))\n",
    "colors = torch.rand((100, 3))\n",
    "opacities = torch.rand((100, 1))"
   ]
  },
  {
   "cell_type": "code",
   "execution_count": null,
   "metadata": {},
   "outputs": [],
   "source": [
    "render_colors, render_alphas, info = rasterization(\n",
    "            means=means,\n",
    "            quats=quats,\n",
    "            scales=scales,\n",
    "            opacities=opacities,\n",
    "            colors=colors,\n",
    "            viewmats=torch.linalg.inv(camtoworlds),  # [C, 4, 4]\n",
    "            Ks=Ks,  # [C, 3, 3]\n",
    "            width=width,\n",
    "            height=height,\n",
    "            packed=self.cfg.packed,\n",
    "            absgrad=self.cfg.absgrad,\n",
    "            sparse_grad=self.cfg.sparse_grad,\n",
    "            rasterize_mode=rasterize_mode,\n",
    "            **kwargs,\n",
    "        )"
   ]
  }
 ],
 "metadata": {
  "kernelspec": {
   "display_name": "gsplats-expr-rq7iXuSR-py3.10",
   "language": "python",
   "name": "python3"
  },
  "language_info": {
   "codemirror_mode": {
    "name": "ipython",
    "version": 3
   },
   "file_extension": ".py",
   "mimetype": "text/x-python",
   "name": "python",
   "nbconvert_exporter": "python",
   "pygments_lexer": "ipython3",
   "version": "3.10.12"
  }
 },
 "nbformat": 4,
 "nbformat_minor": 2
}
